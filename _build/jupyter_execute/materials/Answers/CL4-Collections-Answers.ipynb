{
 "cells": [
  {
   "cell_type": "markdown",
   "id": "617afa5e",
   "metadata": {
    "deletable": false,
    "editable": false,
    "nbgrader": {
     "grade": false,
     "grade_id": "cell-e8537ebe6502c993",
     "locked": true,
     "schema_version": 3,
     "solution": false
    }
   },
   "source": [
    "# CL4: Collections\n",
    "\n",
    "Welcome to the fourth coding lab!\n",
    "\n",
    "In this Coding Lab we will focus on working with collections and get additional practice with conditionals and functions."
   ]
  },
  {
   "cell_type": "markdown",
   "id": "b7283267",
   "metadata": {
    "deletable": false,
    "editable": false,
    "nbgrader": {
     "grade": false,
     "grade_id": "cell-5232a4181069f8a7",
     "locked": true,
     "schema_version": 3,
     "solution": false
    }
   },
   "source": [
    "## Part I: Collections\n",
    "\n",
    "Collections are Python variable types than can store a 'collection' of items.\n",
    "\n",
    "Here we'll practice defining collections and indexing."
   ]
  },
  {
   "cell_type": "markdown",
   "id": "29749d48",
   "metadata": {
    "deletable": false,
    "editable": false,
    "nbgrader": {
     "grade": false,
     "grade_id": "cell-e5df68d2a26e8a8d",
     "locked": true,
     "schema_version": 3,
     "solution": false
    }
   },
   "source": [
    "### Collection Questions\n",
    "\n",
    "Create a list, a tuple, and a dictionary. Fill them with with any values you want. \n",
    "\n",
    "Call them `my_list`, `my_tuple`, and `my_dictionary`."
   ]
  },
  {
   "cell_type": "code",
   "execution_count": 1,
   "id": "8dbf82ed",
   "metadata": {
    "deletable": false,
    "execution": {
     "iopub.execute_input": "2023-11-12T20:10:57.801915Z",
     "iopub.status.busy": "2023-11-12T20:10:57.801337Z",
     "iopub.status.idle": "2023-11-12T20:10:57.812467Z",
     "shell.execute_reply": "2023-11-12T20:10:57.811929Z"
    },
    "nbgrader": {
     "grade": false,
     "grade_id": "cell-03b4194c0ccc5cb9",
     "locked": false,
     "schema_version": 3,
     "solution": true
    }
   },
   "outputs": [],
   "source": [
    "### BEGIN SOLUTION\n",
    "# specific values will differ\n",
    "my_list = [1, 2, 3]\n",
    "my_tuple = ('a', 'b', 'c')\n",
    "my_dictionary = {'First' : 'Shannon',\n",
    "                 'Last' : 'Ellis'}\n",
    "### END SOLUTION"
   ]
  },
  {
   "cell_type": "markdown",
   "id": "de1cd7c4",
   "metadata": {
    "deletable": false,
    "editable": false,
    "nbgrader": {
     "grade": false,
     "grade_id": "cell-0cc2aa750a4e1fdc",
     "locked": true,
     "schema_version": 3,
     "solution": false
    }
   },
   "source": [
    "Use the following cells to check the types of the variables you write are as expected"
   ]
  },
  {
   "cell_type": "code",
   "execution_count": 2,
   "id": "475c7319",
   "metadata": {
    "execution": {
     "iopub.execute_input": "2023-11-12T20:10:57.815775Z",
     "iopub.status.busy": "2023-11-12T20:10:57.815304Z",
     "iopub.status.idle": "2023-11-12T20:10:57.826144Z",
     "shell.execute_reply": "2023-11-12T20:10:57.825693Z"
    }
   },
   "outputs": [
    {
     "data": {
      "text/plain": [
       "list"
      ]
     },
     "execution_count": 2,
     "metadata": {},
     "output_type": "execute_result"
    }
   ],
   "source": [
    "type(my_list)"
   ]
  },
  {
   "cell_type": "code",
   "execution_count": 3,
   "id": "5bad178f",
   "metadata": {
    "execution": {
     "iopub.execute_input": "2023-11-12T20:10:57.829549Z",
     "iopub.status.busy": "2023-11-12T20:10:57.829170Z",
     "iopub.status.idle": "2023-11-12T20:10:57.833000Z",
     "shell.execute_reply": "2023-11-12T20:10:57.832496Z"
    }
   },
   "outputs": [
    {
     "data": {
      "text/plain": [
       "tuple"
      ]
     },
     "execution_count": 3,
     "metadata": {},
     "output_type": "execute_result"
    }
   ],
   "source": [
    "type(my_tuple)"
   ]
  },
  {
   "cell_type": "code",
   "execution_count": 4,
   "id": "5df58177",
   "metadata": {
    "execution": {
     "iopub.execute_input": "2023-11-12T20:10:57.836001Z",
     "iopub.status.busy": "2023-11-12T20:10:57.835485Z",
     "iopub.status.idle": "2023-11-12T20:10:57.839301Z",
     "shell.execute_reply": "2023-11-12T20:10:57.838837Z"
    }
   },
   "outputs": [
    {
     "data": {
      "text/plain": [
       "dict"
      ]
     },
     "execution_count": 4,
     "metadata": {},
     "output_type": "execute_result"
    }
   ],
   "source": [
    "type(my_dictionary)"
   ]
  },
  {
   "cell_type": "markdown",
   "id": "5ec9e998",
   "metadata": {
    "deletable": false,
    "editable": false,
    "nbgrader": {
     "grade": false,
     "grade_id": "cell-03e1ff88a1a1ddd1",
     "locked": true,
     "schema_version": 3,
     "solution": false
    }
   },
   "source": [
    "On an assignment, you'd likely see the same concept tested with the following `assert` statements"
   ]
  },
  {
   "cell_type": "code",
   "execution_count": 5,
   "id": "2a173207",
   "metadata": {
    "deletable": false,
    "editable": false,
    "execution": {
     "iopub.execute_input": "2023-11-12T20:10:57.842390Z",
     "iopub.status.busy": "2023-11-12T20:10:57.841948Z",
     "iopub.status.idle": "2023-11-12T20:10:57.845087Z",
     "shell.execute_reply": "2023-11-12T20:10:57.844635Z"
    },
    "nbgrader": {
     "grade": true,
     "grade_id": "cell-00392a1d77c0cd31",
     "locked": true,
     "points": 0,
     "schema_version": 3,
     "solution": false
    }
   },
   "outputs": [],
   "source": [
    "assert type(my_list) == list\n",
    "assert type(my_tuple) == tuple\n",
    "assert type(my_dictionary) == dict"
   ]
  },
  {
   "cell_type": "markdown",
   "id": "dbb7f4a6",
   "metadata": {
    "deletable": false,
    "editable": false,
    "nbgrader": {
     "grade": false,
     "grade_id": "cell-3a2be167e34ac487",
     "locked": true,
     "schema_version": 3,
     "solution": false
    }
   },
   "source": [
    "#### Declaring Collections\n",
    "\n",
    "Note that there can be more than one way to declare collections. \n",
    "\n",
    "As well as declaring them with '[]' and '()', we can use the list & tuple constructors, as shown below. "
   ]
  },
  {
   "cell_type": "code",
   "execution_count": 6,
   "id": "c4a503de",
   "metadata": {
    "execution": {
     "iopub.execute_input": "2023-11-12T20:10:57.848142Z",
     "iopub.status.busy": "2023-11-12T20:10:57.847645Z",
     "iopub.status.idle": "2023-11-12T20:10:57.852903Z",
     "shell.execute_reply": "2023-11-12T20:10:57.852414Z"
    }
   },
   "outputs": [
    {
     "name": "stdout",
     "output_type": "stream",
     "text": [
      "'some_list' contains: \t [1, 2, 3, 4, 5]\n",
      "'some_tuple' contains: \t ('peanut', 'butter', 'and', 'jelly')\n",
      "'some_dict' contains: \t {'First': 'Eric', 'Last': 'Morgan'}\n"
     ]
    }
   ],
   "source": [
    "# Run me! - This creates another list & tuple, using the list & tuple constructors\n",
    "some_list = list([1, 2, 3, 4, 5])\n",
    "some_tuple = tuple([\"peanut\", \"butter\", \"and\", \"jelly\"])\n",
    "some_dict = dict([('First', 'Eric'), ('Last', 'Morgan')])\n",
    "\n",
    "print(\"'some_list' contains: \\t\", some_list)\n",
    "print(\"'some_tuple' contains: \\t\", some_tuple)\n",
    "print(\"'some_dict' contains: \\t\", some_dict)"
   ]
  },
  {
   "cell_type": "markdown",
   "id": "c7a0e054",
   "metadata": {
    "deletable": false,
    "editable": false,
    "nbgrader": {
     "grade": false,
     "grade_id": "cell-7688e7b4b8600212",
     "locked": true,
     "schema_version": 3,
     "solution": false
    }
   },
   "source": [
    "Compare the types of these variables to your equivalent variables to confirm.\n",
    "\n",
    "In the cell below, start with the code provided here:\n",
    "\n",
    "```python\n",
    "# Fill in `_WRITE_IN_TYPE_HERE` with the type you expect each variable to be\n",
    "assert type(some_list) == _WRITE_IN_TYPE_HERE_\n",
    "assert type(some_tuple) == _WRITE_IN_TYPE_HERE_\n",
    "assert type(some_dict) == _WRITE_IN_TYPE_HERE_\n",
    "```\n",
    "\n",
    "...but edit the code  write in the type of the objects that you expect them to be, and make sure the asserts pass. "
   ]
  },
  {
   "cell_type": "code",
   "execution_count": 7,
   "id": "075af5a2",
   "metadata": {
    "deletable": false,
    "execution": {
     "iopub.execute_input": "2023-11-12T20:10:57.855968Z",
     "iopub.status.busy": "2023-11-12T20:10:57.855457Z",
     "iopub.status.idle": "2023-11-12T20:10:57.858717Z",
     "shell.execute_reply": "2023-11-12T20:10:57.858257Z"
    },
    "nbgrader": {
     "grade": true,
     "grade_id": "cell-e165e0773228e7df",
     "locked": false,
     "points": 0,
     "schema_version": 3,
     "solution": true
    }
   },
   "outputs": [],
   "source": [
    "### BEGIN SOLUTION\n",
    "assert type(some_list) == list\n",
    "assert type(some_tuple) == tuple\n",
    "assert type(some_dict) == dict\n",
    "### END SOLUTION"
   ]
  },
  {
   "cell_type": "markdown",
   "id": "a56d6cad",
   "metadata": {
    "deletable": false,
    "editable": false,
    "nbgrader": {
     "grade": false,
     "grade_id": "cell-b2b788d74d096d70",
     "locked": true,
     "schema_version": 3,
     "solution": false
    }
   },
   "source": [
    "### Indexing\n",
    "\n",
    "Given the following list (`my_lst`, defined below), do the following operations:\n",
    "- Get the length of the list (assign this to a variable `lst_len`)\n",
    "- Get the 1st element of the list (call the selection `ind1`)\n",
    "- Get the last element of the list (call the selection `ind2`)\n",
    "- Get the second to the fourth element of the list (call the selection `ind3`)\n",
    "- Get from the fifth element, to the end of the list (call the selection `ind4`)\n",
    "- Get every second element of the list, starting at the first element (call the selection `ind5`)\n",
    "- Get every second element of the list, starting at the second element (call the selection `ind6`)\n",
    "\n",
    "A reminder: this is a coding lab, so the goal is to explore with guidance. Being \"right\" matters less than understanding. That said, when we say \"second to fourth element\" we're referring to the position in the list, not the index, so a list of ['a', 'b', 'c', 'd'], the \"second to fourth element would be ['b', 'c', 'd']."
   ]
  },
  {
   "cell_type": "code",
   "execution_count": 8,
   "id": "f481bdb8",
   "metadata": {
    "deletable": false,
    "editable": false,
    "execution": {
     "iopub.execute_input": "2023-11-12T20:10:57.861592Z",
     "iopub.status.busy": "2023-11-12T20:10:57.861215Z",
     "iopub.status.idle": "2023-11-12T20:10:57.864320Z",
     "shell.execute_reply": "2023-11-12T20:10:57.863862Z"
    },
    "nbgrader": {
     "grade": false,
     "grade_id": "cell-723b1e184986fe7d",
     "locked": true,
     "schema_version": 3,
     "solution": false
    }
   },
   "outputs": [],
   "source": [
    "my_lst = ['a', True, 12, 'tomato', False, None, 23, 'python', [], 5.5]"
   ]
  },
  {
   "cell_type": "code",
   "execution_count": 9,
   "id": "f87f8ac5",
   "metadata": {
    "deletable": false,
    "execution": {
     "iopub.execute_input": "2023-11-12T20:10:57.867300Z",
     "iopub.status.busy": "2023-11-12T20:10:57.866797Z",
     "iopub.status.idle": "2023-11-12T20:10:57.870822Z",
     "shell.execute_reply": "2023-11-12T20:10:57.870356Z"
    },
    "nbgrader": {
     "grade": false,
     "grade_id": "cell-09da9aaa2dc855ad",
     "locked": false,
     "schema_version": 3,
     "solution": true
    }
   },
   "outputs": [],
   "source": [
    "### BEGIN SOLUTION\n",
    "lst_len = len(my_lst)\n",
    "ind1 = my_lst[0]\n",
    "ind2 = my_lst[-1]\n",
    "ind3 = my_lst[1:4]\n",
    "ind4 = my_lst[4:]\n",
    "ind5 = my_lst[0::2]\n",
    "ind6 = my_lst[1::2]\n",
    "### END SOLUTION"
   ]
  },
  {
   "cell_type": "markdown",
   "id": "352cf7f2",
   "metadata": {
    "deletable": false,
    "editable": false,
    "nbgrader": {
     "grade": false,
     "grade_id": "cell-e1e784da70db869b",
     "locked": true,
     "schema_version": 3,
     "solution": false
    }
   },
   "source": [
    "## Part II: Collections + Conditionals\n",
    "\n",
    "Collections can work with all of the things we've discussed up to this point - variables, conditionals, functions, etc. Here, we'll get extra practice combining collections with conditionals."
   ]
  },
  {
   "cell_type": "markdown",
   "id": "ebaeba80",
   "metadata": {
    "deletable": false,
    "editable": false,
    "nbgrader": {
     "grade": false,
     "grade_id": "cell-aa4d3d1a2da6b217",
     "locked": true,
     "schema_version": 3,
     "solution": false
    }
   },
   "source": [
    "### Collections + Conditionals Question\n",
    "\n",
    "Imagine you've asked a group of young children to make a pile of at least 5 toys. \n",
    "\n",
    "You then want to write code to determine if the kid accomplished the task. Specifically, if the pile has at least 5 toys, you want `output` to store the string `'success'`. Otherwise, you want `output` to store the string `'try again'`\n",
    "\n",
    "The toys placed in one of these kids' piles is defined below in the list `kid_a`. Using this list, and conditionals, write code to accomplish the task above! "
   ]
  },
  {
   "cell_type": "code",
   "execution_count": 10,
   "id": "812ff847",
   "metadata": {
    "deletable": false,
    "editable": false,
    "execution": {
     "iopub.execute_input": "2023-11-12T20:10:57.873866Z",
     "iopub.status.busy": "2023-11-12T20:10:57.873359Z",
     "iopub.status.idle": "2023-11-12T20:10:57.876343Z",
     "shell.execute_reply": "2023-11-12T20:10:57.875853Z"
    },
    "nbgrader": {
     "grade": false,
     "grade_id": "cell-03b9eddcb33c1abe",
     "locked": true,
     "schema_version": 3,
     "solution": false
    }
   },
   "outputs": [],
   "source": [
    "kid_a = ['truck', 'barbie', 'coloring book', 'dinosaur']"
   ]
  },
  {
   "cell_type": "code",
   "execution_count": 11,
   "id": "b1ea7486",
   "metadata": {
    "deletable": false,
    "execution": {
     "iopub.execute_input": "2023-11-12T20:10:57.879169Z",
     "iopub.status.busy": "2023-11-12T20:10:57.878726Z",
     "iopub.status.idle": "2023-11-12T20:10:57.881815Z",
     "shell.execute_reply": "2023-11-12T20:10:57.881355Z"
    },
    "nbgrader": {
     "grade": false,
     "grade_id": "cell-fcc40c86d462e69b",
     "locked": false,
     "schema_version": 3,
     "solution": true
    }
   },
   "outputs": [],
   "source": [
    "### BEGIN SOLUTION\n",
    "if len(kid_a) >= 5:\n",
    "    output = 'success'\n",
    "else:\n",
    "    output = 'try again'\n",
    "### END SOLUTION"
   ]
  },
  {
   "cell_type": "code",
   "execution_count": 12,
   "id": "fd7b8e7c",
   "metadata": {
    "deletable": false,
    "editable": false,
    "execution": {
     "iopub.execute_input": "2023-11-12T20:10:57.884721Z",
     "iopub.status.busy": "2023-11-12T20:10:57.884210Z",
     "iopub.status.idle": "2023-11-12T20:10:57.887144Z",
     "shell.execute_reply": "2023-11-12T20:10:57.886694Z"
    },
    "nbgrader": {
     "grade": true,
     "grade_id": "cell-79153e133036327d",
     "locked": true,
     "points": 0,
     "schema_version": 3,
     "solution": false
    }
   },
   "outputs": [],
   "source": [
    "assert output in ['success', 'try again']"
   ]
  },
  {
   "cell_type": "markdown",
   "id": "5de033ce",
   "metadata": {
    "deletable": false,
    "editable": false,
    "nbgrader": {
     "grade": false,
     "grade_id": "cell-48308e416555d022",
     "locked": true,
     "schema_version": 3,
     "solution": false
    }
   },
   "source": [
    "## Part III: Collections + Conditionals + Functions\n",
    "\n",
    "Let's put all of these concepts together...!"
   ]
  },
  {
   "cell_type": "markdown",
   "id": "4a7ccd13",
   "metadata": {
    "deletable": false,
    "editable": false,
    "nbgrader": {
     "grade": false,
     "grade_id": "cell-ae520fc1ce01f5e3",
     "locked": true,
     "schema_version": 3,
     "solution": false
    }
   },
   "source": [
    "### Collections + Conditionals + Functions Question \n",
    "\n",
    "The code you generated in Part II will only work on a single list `kid_a`. Functions, on the other hand, are ways to define a set of instructions that can operate on various input, returning the correct output.\n",
    "\n",
    "Here, write a function `toy_pile()` that accomplishes the same task as above, but takes a list of toys as input and `returns` either `'success'` or `'try again'`, depending upon how many toys are in the list of toys.\n"
   ]
  },
  {
   "cell_type": "code",
   "execution_count": 13,
   "id": "6a312846",
   "metadata": {
    "deletable": false,
    "execution": {
     "iopub.execute_input": "2023-11-12T20:10:57.890192Z",
     "iopub.status.busy": "2023-11-12T20:10:57.889700Z",
     "iopub.status.idle": "2023-11-12T20:10:57.893159Z",
     "shell.execute_reply": "2023-11-12T20:10:57.892708Z"
    },
    "nbgrader": {
     "grade": false,
     "grade_id": "cell-18d3066acd89631e",
     "locked": false,
     "schema_version": 3,
     "solution": true
    }
   },
   "outputs": [],
   "source": [
    "### BEGIN SOLUTION\n",
    "def toy_pile(list_of_toys):\n",
    "    \n",
    "    if len(list_of_toys) >= 5:\n",
    "        output = 'success'\n",
    "    else:\n",
    "        output = 'try again'\n",
    "    \n",
    "    return output\n",
    "### END SOLUTION"
   ]
  },
  {
   "cell_type": "code",
   "execution_count": 14,
   "id": "8d79aae8",
   "metadata": {
    "execution": {
     "iopub.execute_input": "2023-11-12T20:10:57.896059Z",
     "iopub.status.busy": "2023-11-12T20:10:57.895544Z",
     "iopub.status.idle": "2023-11-12T20:10:57.898108Z",
     "shell.execute_reply": "2023-11-12T20:10:57.897661Z"
    }
   },
   "outputs": [],
   "source": [
    "# test out your function here "
   ]
  },
  {
   "cell_type": "code",
   "execution_count": 15,
   "id": "a00839d7",
   "metadata": {
    "deletable": false,
    "editable": false,
    "execution": {
     "iopub.execute_input": "2023-11-12T20:10:57.901065Z",
     "iopub.status.busy": "2023-11-12T20:10:57.900532Z",
     "iopub.status.idle": "2023-11-12T20:10:57.903382Z",
     "shell.execute_reply": "2023-11-12T20:10:57.902934Z"
    },
    "nbgrader": {
     "grade": true,
     "grade_id": "cell-4c017eb2981df277",
     "locked": true,
     "points": 0,
     "schema_version": 3,
     "solution": false
    }
   },
   "outputs": [],
   "source": [
    "assert toy_pile(kid_a) == 'try again'"
   ]
  },
  {
   "cell_type": "code",
   "execution_count": 16,
   "id": "af4a3e13",
   "metadata": {
    "deletable": false,
    "editable": false,
    "execution": {
     "iopub.execute_input": "2023-11-12T20:10:57.906277Z",
     "iopub.status.busy": "2023-11-12T20:10:57.905772Z",
     "iopub.status.idle": "2023-11-12T20:10:57.908817Z",
     "shell.execute_reply": "2023-11-12T20:10:57.908361Z"
    },
    "nbgrader": {
     "grade": true,
     "grade_id": "cell-ee496957763dc6bd",
     "locked": true,
     "points": 0,
     "schema_version": 3,
     "solution": false
    }
   },
   "outputs": [],
   "source": [
    "assert toy_pile(['lego', 'princess dress', 'tinker toy', 'doll', 'stroller']) == 'success'"
   ]
  },
  {
   "cell_type": "markdown",
   "id": "a32114d9",
   "metadata": {
    "deletable": false,
    "editable": false,
    "nbgrader": {
     "grade": false,
     "grade_id": "cell-94d7ac690a32b4b5",
     "locked": true,
     "schema_version": 3,
     "solution": false
    }
   },
   "source": [
    "### Putting it all together\n",
    "\n",
    "Now that you've seen an example, think up another situation where you could write a function that incorporates the following:\n",
    "\n",
    "- takes a dictionary as input\n",
    "- utilizes a conditional within the function\n",
    "- carries out some operation and `return`s some output\n",
    "\n",
    "First, explain what your function does in plain English in the cell below. Then, write the python code for the function in the following cell and test it out in the last cell."
   ]
  },
  {
   "cell_type": "markdown",
   "id": "a0b4c86d",
   "metadata": {},
   "source": [
    "Explain your function here (in words, not code)"
   ]
  },
  {
   "cell_type": "code",
   "execution_count": 17,
   "id": "5cc73a6a",
   "metadata": {
    "deletable": false,
    "execution": {
     "iopub.execute_input": "2023-11-12T20:10:57.911895Z",
     "iopub.status.busy": "2023-11-12T20:10:57.911373Z",
     "iopub.status.idle": "2023-11-12T20:10:57.913943Z",
     "shell.execute_reply": "2023-11-12T20:10:57.913482Z"
    },
    "nbgrader": {
     "grade": false,
     "grade_id": "cell-d6492d162ed04798",
     "locked": false,
     "schema_version": 3,
     "solution": true
    }
   },
   "outputs": [],
   "source": [
    "# define your function here\n",
    "### BEGIN SOLUTION\n",
    "\n",
    "# answers will vary here\n",
    "\n",
    "### END SOLUTION"
   ]
  },
  {
   "cell_type": "code",
   "execution_count": 18,
   "id": "b1f75b32",
   "metadata": {
    "execution": {
     "iopub.execute_input": "2023-11-12T20:10:57.916723Z",
     "iopub.status.busy": "2023-11-12T20:10:57.916338Z",
     "iopub.status.idle": "2023-11-12T20:10:57.918828Z",
     "shell.execute_reply": "2023-11-12T20:10:57.918378Z"
    }
   },
   "outputs": [],
   "source": [
    "# test out/execute your function here"
   ]
  },
  {
   "cell_type": "markdown",
   "id": "5c15e368",
   "metadata": {
    "deletable": false,
    "editable": false,
    "nbgrader": {
     "grade": false,
     "grade_id": "cell-f7ccbf88f9481134",
     "locked": true,
     "schema_version": 3,
     "solution": false
    }
   },
   "source": [
    "## The End!\n",
    "\n",
    "This is the end of this Coding Lab!\n",
    "\n",
    "Be sure you've made a concerted effort to complete all the tasks specified in this lab. Then, go ahead and submit on datahub!"
   ]
  },
  {
   "cell_type": "markdown",
   "id": "ad933c26",
   "metadata": {
    "deletable": false,
    "editable": false,
    "nbgrader": {
     "grade": false,
     "grade_id": "cell-4da66786ceb5308f",
     "locked": true,
     "points": 2,
     "schema_version": 3,
     "solution": false,
     "task": true
    }
   },
   "source": [
    "This \"blank\" cell included intentionally. Do not do anything here. (It's being used in grading.)\n",
    "\n"
   ]
  }
 ],
 "metadata": {
  "kernelspec": {
   "display_name": "Python 3 (ipykernel)",
   "language": "python",
   "name": "python3"
  },
  "language_info": {
   "codemirror_mode": {
    "name": "ipython",
    "version": 3
   },
   "file_extension": ".py",
   "mimetype": "text/x-python",
   "name": "python",
   "nbconvert_exporter": "python",
   "pygments_lexer": "ipython3",
   "version": "3.9.5"
  }
 },
 "nbformat": 4,
 "nbformat_minor": 5
}