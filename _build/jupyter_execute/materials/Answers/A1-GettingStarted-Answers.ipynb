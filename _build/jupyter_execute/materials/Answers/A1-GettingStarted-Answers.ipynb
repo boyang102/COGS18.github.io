{
 "cells": [
  {
   "cell_type": "markdown",
   "metadata": {
    "deletable": false,
    "editable": false,
    "nbgrader": {
     "grade": false,
     "grade_id": "cell-6d65dd6e007dbe8b",
     "locked": true,
     "schema_version": 3,
     "solution": false
    }
   },
   "source": [
    "# Assignment 1: Getting Started\n",
    "\n",
    "This assignment covers Variables, Operators & Functions.\n",
    "\n",
    "This assignment is out of 8 points, worth 8% of your grade.\n",
    "\n",
    "**PLEASE DO NOT CHANGE THE NAME OF THIS FILE.**\n",
    "\n",
    "**PLEASE DO NOT COPY & PASTE OR DELETE CELLS INCLUDED IN THE ASSIGNMENT.**"
   ]
  },
  {
   "cell_type": "markdown",
   "metadata": {
    "deletable": false,
    "editable": false,
    "nbgrader": {
     "grade": false,
     "grade_id": "cell-076d94f60e5b8c08",
     "locked": true,
     "schema_version": 3,
     "solution": false
    }
   },
   "source": [
    "## How to complete assignments\n",
    "\n",
    "Whenever you see:\n",
    "\n",
    "```python\n",
    "# YOUR CODE HERE\n",
    "raise NotImplementedError()\n",
    "```\n",
    "\n",
    "You need to **replace (meaning, delete) these lines of code with some code that answers the questions** and meets the specified criteria. Make sure you remove the 'raise' line when you do this (or your notebook will raise an error, regardless of any other code, and thus fail the grading tests).\n",
    "\n",
    "You should write the answer to the questions in those cells (the ones with `# YOUR CODE HERE`), but you can also add extra cells to explore / investigate things if you need / want to. \n",
    "\n",
    "Any cell with `assert` statements in it is a test cell. You should not try to change or delete these cells. Note that there might be more than one assert that tests a particular question. **These should \"pass silently\" (give no output), letting you know that you're on the right track.**\n",
    "\n",
    "If a test does fail, reading the error that is printed out should let you know which test failed, which may be useful for fixing it.\n",
    "\n",
    "Note that some cells, including the test cells, may be read only, which means they won't let you edit them. If you cannot edit a cell - that is normal, and you shouldn't need to edit that cell."
   ]
  },
  {
   "cell_type": "markdown",
   "metadata": {
    "deletable": false,
    "editable": false,
    "nbgrader": {
     "grade": false,
     "grade_id": "cell-aa14d747b81ff70a",
     "locked": true,
     "schema_version": 3,
     "solution": false
    }
   },
   "source": [
    "## Tips & Tricks\n",
    "\n",
    "The following are a couple tips & tricks that may help you if you get stuck on anything."
   ]
  },
  {
   "cell_type": "markdown",
   "metadata": {
    "deletable": false,
    "editable": false,
    "nbgrader": {
     "grade": false,
     "grade_id": "cell-6412adb8ee6f881c",
     "locked": true,
     "schema_version": 3,
     "solution": false
    }
   },
   "source": [
    "### Printing Variables\n",
    "\n",
    "A reminder that you can (and should) print and check variables as you go.  Note that this is for your benefit, not Python's.  It allows you to see the values that are stored within your variables, but it does nothing for the rest of the program.\n",
    "\n",
    "This allows you to check what values they hold, and fix things if anything unexpected happens."
   ]
  },
  {
   "cell_type": "code",
   "execution_count": 1,
   "metadata": {
    "deletable": false,
    "editable": false,
    "execution": {
     "iopub.execute_input": "2023-11-12T19:52:20.895557Z",
     "iopub.status.busy": "2023-11-12T19:52:20.895221Z",
     "iopub.status.idle": "2023-11-12T19:52:20.908108Z",
     "shell.execute_reply": "2023-11-12T19:52:20.907355Z"
    },
    "nbgrader": {
     "grade": false,
     "grade_id": "cell-2e5a6465a720c95f",
     "locked": true,
     "schema_version": 3,
     "solution": false
    }
   },
   "outputs": [
    {
     "name": "stdout",
     "output_type": "stream",
     "text": [
      "8\n"
     ]
    }
   ],
   "source": [
    "# Define a variable\n",
    "math_result = 2 * 4\n",
    "\n",
    "# Print out the value(s) of a variable.\n",
    "print(math_result)"
   ]
  },
  {
   "cell_type": "markdown",
   "metadata": {
    "deletable": false,
    "editable": false,
    "nbgrader": {
     "grade": false,
     "grade_id": "cell-3c55c888d33fd092",
     "locked": true,
     "schema_version": 3,
     "solution": false
    }
   },
   "source": [
    "### Restarting the Kernel\n",
    "\n",
    "A reminder that sometimes if you run cells out of order, you can end up overwriting things in your namespace. \n",
    "\n",
    "If things seem to go weird, a good first step is to restart the kernel, which you can do from the kernel menu above.\n",
    "\n",
    "Even if everything seems to be working, it's a nice check to 'Restart & Run All' to make sure everything runs properly in order."
   ]
  },
  {
   "cell_type": "markdown",
   "metadata": {
    "deletable": false,
    "editable": false,
    "nbgrader": {
     "grade": false,
     "grade_id": "cell-e67b86c582091c92",
     "locked": true,
     "schema_version": 3,
     "solution": false
    }
   },
   "source": [
    "## Example Question\n",
    "\n",
    "Define a variable called `my_int` that stores the value 17. "
   ]
  },
  {
   "cell_type": "code",
   "execution_count": 2,
   "metadata": {
    "deletable": false,
    "editable": false,
    "execution": {
     "iopub.execute_input": "2023-11-12T19:52:20.935283Z",
     "iopub.status.busy": "2023-11-12T19:52:20.935086Z",
     "iopub.status.idle": "2023-11-12T19:52:20.938803Z",
     "shell.execute_reply": "2023-11-12T19:52:20.937720Z"
    },
    "nbgrader": {
     "grade": false,
     "grade_id": "cell-5bd6704f5d589daa",
     "locked": true,
     "schema_version": 3,
     "solution": false
    }
   },
   "outputs": [],
   "source": [
    "# YOUR CODE HERE\n",
    "my_int = 17"
   ]
  },
  {
   "cell_type": "code",
   "execution_count": 3,
   "metadata": {
    "deletable": false,
    "editable": false,
    "execution": {
     "iopub.execute_input": "2023-11-12T19:52:20.941322Z",
     "iopub.status.busy": "2023-11-12T19:52:20.941001Z",
     "iopub.status.idle": "2023-11-12T19:52:20.945249Z",
     "shell.execute_reply": "2023-11-12T19:52:20.944479Z"
    },
    "nbgrader": {
     "grade": false,
     "grade_id": "cell-6ce35a31b948c276",
     "locked": true,
     "schema_version": 3,
     "solution": false
    }
   },
   "outputs": [],
   "source": [
    "# This is a test cell. It checks that the code you wrote does what it's supposed to\n",
    "assert  my_int                     # This tests that a variable exists\n",
    "assert  type(my_int) == int        # This tests that a variable is of a particular type\n",
    "assert  my_int == 17               # This tests that a variable has a specified value"
   ]
  },
  {
   "cell_type": "markdown",
   "metadata": {
    "deletable": false,
    "editable": false,
    "nbgrader": {
     "grade": false,
     "grade_id": "cell-c9b88531d7cf61bc",
     "locked": true,
     "schema_version": 3,
     "solution": false
    }
   },
   "source": [
    "## Part I - Defining Variables\n",
    "\n",
    "First, we will start by defining some Python variables. "
   ]
  },
  {
   "cell_type": "markdown",
   "metadata": {
    "deletable": false,
    "editable": false,
    "nbgrader": {
     "grade": false,
     "grade_id": "cell-b28d47658f801568",
     "locked": true,
     "schema_version": 3,
     "solution": false
    }
   },
   "source": [
    "### Q1 - Create Variables (1.25 points)\n",
    "\n",
    "Create the following variables:\n",
    "- a variable called `number` that stores the value 929\n",
    "- a variable called `decimal` that stores the value 9.29\n",
    "- a variable called `word` that stores the value 'cogs 18' (note: there is a space between cogs and 18)\n",
    "- a variable called `truth` that stores the value True\n",
    "- a variable called `nada` that stores the value None"
   ]
  },
  {
   "cell_type": "code",
   "execution_count": 4,
   "metadata": {
    "deletable": false,
    "execution": {
     "iopub.execute_input": "2023-11-12T19:52:20.947965Z",
     "iopub.status.busy": "2023-11-12T19:52:20.947672Z",
     "iopub.status.idle": "2023-11-12T19:52:20.951851Z",
     "shell.execute_reply": "2023-11-12T19:52:20.951112Z"
    },
    "nbgrader": {
     "grade": false,
     "grade_id": "cell-aba100abfe23c75f",
     "locked": false,
     "schema_version": 3,
     "solution": true
    }
   },
   "outputs": [],
   "source": [
    "# Create the variables\n",
    "\n",
    "### BEGIN SOLUTION\n",
    "number = 929\n",
    "decimal = 9.29\n",
    "word = 'cogs 18'\n",
    "truth = True\n",
    "nada = None\n",
    "### END SOLUTION"
   ]
  },
  {
   "cell_type": "code",
   "execution_count": 5,
   "metadata": {
    "deletable": false,
    "editable": false,
    "execution": {
     "iopub.execute_input": "2023-11-12T19:52:20.954464Z",
     "iopub.status.busy": "2023-11-12T19:52:20.954180Z",
     "iopub.status.idle": "2023-11-12T19:52:20.958104Z",
     "shell.execute_reply": "2023-11-12T19:52:20.957345Z"
    },
    "nbgrader": {
     "grade": true,
     "grade_id": "cell-6d742eec19ccc8b1",
     "locked": true,
     "points": 0.25,
     "schema_version": 3,
     "solution": false
    }
   },
   "outputs": [],
   "source": [
    "## TESTS FOR Q1\n",
    "\n",
    "# Check that variable `number` is an int, and has the correct value\n",
    "assert type(number) == int\n",
    "assert number == 929"
   ]
  },
  {
   "cell_type": "code",
   "execution_count": 6,
   "metadata": {
    "deletable": false,
    "editable": false,
    "execution": {
     "iopub.execute_input": "2023-11-12T19:52:20.960510Z",
     "iopub.status.busy": "2023-11-12T19:52:20.960227Z",
     "iopub.status.idle": "2023-11-12T19:52:20.964215Z",
     "shell.execute_reply": "2023-11-12T19:52:20.963460Z"
    },
    "nbgrader": {
     "grade": true,
     "grade_id": "cell-4757efea652f25f7",
     "locked": true,
     "points": 0.25,
     "schema_version": 3,
     "solution": false
    }
   },
   "outputs": [],
   "source": [
    "## TESTS FOR Q1\n",
    "\n",
    "# Check that variable `decimal` is a float, and has the correct value\n",
    "assert type(decimal) == float\n",
    "assert decimal == 9.29"
   ]
  },
  {
   "cell_type": "code",
   "execution_count": 7,
   "metadata": {
    "deletable": false,
    "editable": false,
    "execution": {
     "iopub.execute_input": "2023-11-12T19:52:20.966631Z",
     "iopub.status.busy": "2023-11-12T19:52:20.966337Z",
     "iopub.status.idle": "2023-11-12T19:52:20.970130Z",
     "shell.execute_reply": "2023-11-12T19:52:20.969379Z"
    },
    "nbgrader": {
     "grade": true,
     "grade_id": "cell-8b0f7e2f80328a33",
     "locked": true,
     "points": 0.25,
     "schema_version": 3,
     "solution": false
    }
   },
   "outputs": [],
   "source": [
    "## TESTS FOR Q1\n",
    "\n",
    "# Check that variable `words` is a string, and has the correct value\n",
    "assert type(word) == str\n",
    "assert word == 'cogs 18'"
   ]
  },
  {
   "cell_type": "code",
   "execution_count": 8,
   "metadata": {
    "deletable": false,
    "editable": false,
    "execution": {
     "iopub.execute_input": "2023-11-12T19:52:20.972498Z",
     "iopub.status.busy": "2023-11-12T19:52:20.972216Z",
     "iopub.status.idle": "2023-11-12T19:52:20.976094Z",
     "shell.execute_reply": "2023-11-12T19:52:20.975350Z"
    },
    "nbgrader": {
     "grade": true,
     "grade_id": "cell-bea89cf2bc700120",
     "locked": true,
     "points": 0.25,
     "schema_version": 3,
     "solution": false
    }
   },
   "outputs": [],
   "source": [
    "## TESTS FOR Q1\n",
    "\n",
    "# Check that variable `truth` is a boolean, and has the correct value\n",
    "assert type(truth) == bool\n",
    "assert truth == True"
   ]
  },
  {
   "cell_type": "code",
   "execution_count": 9,
   "metadata": {
    "deletable": false,
    "editable": false,
    "execution": {
     "iopub.execute_input": "2023-11-12T19:52:20.978889Z",
     "iopub.status.busy": "2023-11-12T19:52:20.978590Z",
     "iopub.status.idle": "2023-11-12T19:52:20.982431Z",
     "shell.execute_reply": "2023-11-12T19:52:20.981713Z"
    },
    "nbgrader": {
     "grade": true,
     "grade_id": "cell-a9284fa7620f0807",
     "locked": true,
     "points": 0.25,
     "schema_version": 3,
     "solution": false
    }
   },
   "outputs": [],
   "source": [
    "## TESTS FOR Q1\n",
    "\n",
    "# Check that variable `nada` is NoneType, and has the correct value\n",
    "assert type(nada) == type(None)\n",
    "assert nada == None"
   ]
  },
  {
   "cell_type": "markdown",
   "metadata": {
    "deletable": false,
    "editable": false,
    "nbgrader": {
     "grade": false,
     "grade_id": "cell-8b40ab8ecc72bd4f",
     "locked": true,
     "schema_version": 3,
     "solution": false
    }
   },
   "source": [
    "## Part II - Operations"
   ]
  },
  {
   "cell_type": "markdown",
   "metadata": {
    "deletable": false,
    "editable": false,
    "nbgrader": {
     "grade": false,
     "grade_id": "cell-f3d4874fb42d84ee",
     "locked": true,
     "schema_version": 3,
     "solution": false
    }
   },
   "source": [
    "### Q2 - Python as a Calculator (1 point)\n",
    "\n",
    "Reference the variable names provided below (`int_1`, `int_2`, `float_1`, `float_2`) to carry out the following calculations:\n",
    "\n",
    "- Set `ans_1` as the result of `int_1` divided by `int_2`\n",
    "- Set `ans_2` as the result of `float_1` multiplied by `float_2`, with `int_2` then added afterward\n",
    "- Set `ans_3` as the result of `float_1` divided by `int_1`, the result of which is then raised to the power 2.\n",
    "- Set `ans_4` as the result of the remainder of `int_1` divided by `int_2`\n",
    "\n",
    "Note: your answer should use the *variables* provided (i.e. `int_1`), *not* the values they store (i.e. `27`)."
   ]
  },
  {
   "cell_type": "code",
   "execution_count": 10,
   "metadata": {
    "deletable": false,
    "editable": false,
    "execution": {
     "iopub.execute_input": "2023-11-12T19:52:20.984946Z",
     "iopub.status.busy": "2023-11-12T19:52:20.984667Z",
     "iopub.status.idle": "2023-11-12T19:52:20.988505Z",
     "shell.execute_reply": "2023-11-12T19:52:20.987764Z"
    },
    "nbgrader": {
     "grade": false,
     "grade_id": "cell-b92668fca7f1ecd9",
     "locked": true,
     "schema_version": 3,
     "solution": false
    }
   },
   "outputs": [],
   "source": [
    "# These variables provided for you\n",
    "int_1 = 27\n",
    "int_2 = 9\n",
    "\n",
    "float_1 = 9.5\n",
    "float_2 = 19.0"
   ]
  },
  {
   "cell_type": "code",
   "execution_count": 11,
   "metadata": {
    "deletable": false,
    "execution": {
     "iopub.execute_input": "2023-11-12T19:52:20.991286Z",
     "iopub.status.busy": "2023-11-12T19:52:20.990996Z",
     "iopub.status.idle": "2023-11-12T19:52:20.995370Z",
     "shell.execute_reply": "2023-11-12T19:52:20.994607Z"
    },
    "nbgrader": {
     "grade": false,
     "grade_id": "cell-470235f72bd8d68d",
     "locked": false,
     "schema_version": 3,
     "solution": true
    }
   },
   "outputs": [],
   "source": [
    "### BEGIN SOLUTION\n",
    "ans_1 = int_1 / int_2\n",
    "ans_2 = float_1 * float_2 + int_2\n",
    "ans_3 = (float_1 / int_1) ** 2\n",
    "ans_4 = int_1 % int_2\n",
    "### END SOLUTION"
   ]
  },
  {
   "cell_type": "code",
   "execution_count": 12,
   "metadata": {
    "deletable": false,
    "editable": false,
    "execution": {
     "iopub.execute_input": "2023-11-12T19:52:20.997689Z",
     "iopub.status.busy": "2023-11-12T19:52:20.997398Z",
     "iopub.status.idle": "2023-11-12T19:52:21.001806Z",
     "shell.execute_reply": "2023-11-12T19:52:21.001058Z"
    },
    "nbgrader": {
     "grade": true,
     "grade_id": "cell-12af4e4d3179f69e",
     "locked": true,
     "points": 0.25,
     "schema_version": 3,
     "solution": false
    }
   },
   "outputs": [],
   "source": [
    "## TESTS FOR Q2  [Note: Includes Hidden Tests]\n",
    "\n",
    "assert type(ans_1) == float\n",
    "### BEGIN HIDDEN TESTS\n",
    "import math \n",
    "assert math.isclose(ans_1, 3.0, rel_tol = 0.01)\n",
    "### END HIDDEN TESTS"
   ]
  },
  {
   "cell_type": "code",
   "execution_count": 13,
   "metadata": {
    "deletable": false,
    "editable": false,
    "execution": {
     "iopub.execute_input": "2023-11-12T19:52:21.004153Z",
     "iopub.status.busy": "2023-11-12T19:52:21.003872Z",
     "iopub.status.idle": "2023-11-12T19:52:21.007992Z",
     "shell.execute_reply": "2023-11-12T19:52:21.007234Z"
    },
    "nbgrader": {
     "grade": true,
     "grade_id": "cell-aeeac9dbb5198fef",
     "locked": true,
     "points": 0.25,
     "schema_version": 3,
     "solution": false
    }
   },
   "outputs": [],
   "source": [
    "## TESTS FOR Q2  [Note: Includes Hidden Tests]\n",
    "\n",
    "assert type(ans_2) == float\n",
    "### BEGIN HIDDEN TESTS\n",
    "assert math.isclose(ans_2, 189.5, rel_tol = 0.01)\n",
    "### END HIDDEN TESTS"
   ]
  },
  {
   "cell_type": "code",
   "execution_count": 14,
   "metadata": {
    "deletable": false,
    "editable": false,
    "execution": {
     "iopub.execute_input": "2023-11-12T19:52:21.010770Z",
     "iopub.status.busy": "2023-11-12T19:52:21.010452Z",
     "iopub.status.idle": "2023-11-12T19:52:21.014573Z",
     "shell.execute_reply": "2023-11-12T19:52:21.013803Z"
    },
    "nbgrader": {
     "grade": true,
     "grade_id": "cell-4bdf00498b0db006",
     "locked": true,
     "points": 0.25,
     "schema_version": 3,
     "solution": false
    }
   },
   "outputs": [],
   "source": [
    "## TESTS FOR Q2  [Note: Includes Hidden Tests]\n",
    "\n",
    "assert type(ans_3) == float\n",
    "### BEGIN HIDDEN TESTS\n",
    "assert math.isclose(ans_3, 0.123, rel_tol = 0.01)\n",
    "### END HIDDEN TESTS"
   ]
  },
  {
   "cell_type": "code",
   "execution_count": 15,
   "metadata": {
    "deletable": false,
    "editable": false,
    "execution": {
     "iopub.execute_input": "2023-11-12T19:52:21.017032Z",
     "iopub.status.busy": "2023-11-12T19:52:21.016749Z",
     "iopub.status.idle": "2023-11-12T19:52:21.020541Z",
     "shell.execute_reply": "2023-11-12T19:52:21.019783Z"
    },
    "nbgrader": {
     "grade": true,
     "grade_id": "cell-9df0702d77cd4bf2",
     "locked": true,
     "points": 0.25,
     "schema_version": 3,
     "solution": false
    }
   },
   "outputs": [],
   "source": [
    "## TESTS FOR Q2  [Note: Includes Hidden Tests]\n",
    "\n",
    "assert type(ans_4) == int\n",
    "### BEGIN HIDDEN TESTS\n",
    "assert ans_4 == 0\n",
    "### END HIDDEN TESTS"
   ]
  },
  {
   "cell_type": "markdown",
   "metadata": {
    "deletable": false,
    "editable": false,
    "nbgrader": {
     "grade": false,
     "grade_id": "cell-e3e75ad8f518edb6",
     "locked": true,
     "schema_version": 3,
     "solution": false
    }
   },
   "source": [
    "### Q3 - String Manipulations (0.5 points)\n",
    "\n",
    "Using the strings provided, concatenate them together into the string `Python is fun!`.Save this result to a variable called `str_fun`.\n",
    "\n",
    "Do the same, but concatenate to generate the string `Python is really fun!`. Save this result to a variable `str_really_fun`.\n",
    "\n",
    "Note: make sure to add spaces between words when concatenating together. "
   ]
  },
  {
   "cell_type": "code",
   "execution_count": 16,
   "metadata": {
    "deletable": false,
    "editable": false,
    "execution": {
     "iopub.execute_input": "2023-11-12T19:52:21.023035Z",
     "iopub.status.busy": "2023-11-12T19:52:21.022757Z",
     "iopub.status.idle": "2023-11-12T19:52:21.026704Z",
     "shell.execute_reply": "2023-11-12T19:52:21.025953Z"
    },
    "nbgrader": {
     "grade": false,
     "grade_id": "cell-6db873ca774ada6a",
     "locked": true,
     "schema_version": 3,
     "solution": false
    }
   },
   "outputs": [],
   "source": [
    "# These variables provided for you\n",
    "str_1 = 'Python'\n",
    "str_2 = 'is'\n",
    "str_3 = 'really'\n",
    "str_4 = 'fun!'"
   ]
  },
  {
   "cell_type": "code",
   "execution_count": 17,
   "metadata": {
    "deletable": false,
    "execution": {
     "iopub.execute_input": "2023-11-12T19:52:21.029429Z",
     "iopub.status.busy": "2023-11-12T19:52:21.029146Z",
     "iopub.status.idle": "2023-11-12T19:52:21.033198Z",
     "shell.execute_reply": "2023-11-12T19:52:21.032455Z"
    },
    "nbgrader": {
     "grade": false,
     "grade_id": "cell-eff2d0b53b5430eb",
     "locked": false,
     "schema_version": 3,
     "solution": true
    }
   },
   "outputs": [],
   "source": [
    "### BEGIN SOLUTION\n",
    "str_fun = str_1 + ' ' + str_2 + ' ' + str_4\n",
    "str_really_fun = str_1 + ' ' + str_2 + ' ' + str_3 + ' ' + str_4\n",
    "### END SOLUTION"
   ]
  },
  {
   "cell_type": "code",
   "execution_count": 18,
   "metadata": {
    "deletable": false,
    "editable": false,
    "execution": {
     "iopub.execute_input": "2023-11-12T19:52:21.035591Z",
     "iopub.status.busy": "2023-11-12T19:52:21.035313Z",
     "iopub.status.idle": "2023-11-12T19:52:21.038855Z",
     "shell.execute_reply": "2023-11-12T19:52:21.038072Z"
    },
    "nbgrader": {
     "grade": true,
     "grade_id": "cell-b9a1407c39acc29e",
     "locked": true,
     "points": 0.25,
     "schema_version": 3,
     "solution": false
    }
   },
   "outputs": [],
   "source": [
    "## TESTS FOR Q3\n",
    "\n",
    "assert type(str_fun) == str"
   ]
  },
  {
   "cell_type": "code",
   "execution_count": 19,
   "metadata": {
    "deletable": false,
    "editable": false,
    "execution": {
     "iopub.execute_input": "2023-11-12T19:52:21.041319Z",
     "iopub.status.busy": "2023-11-12T19:52:21.041017Z",
     "iopub.status.idle": "2023-11-12T19:52:21.044791Z",
     "shell.execute_reply": "2023-11-12T19:52:21.044046Z"
    },
    "nbgrader": {
     "grade": true,
     "grade_id": "cell-b297ff5f4ce9a659",
     "locked": true,
     "points": 0.25,
     "schema_version": 3,
     "solution": false
    }
   },
   "outputs": [],
   "source": [
    "##### TESTS FOR Q3 [Note: Includes Hidden Tests]\n",
    "\n",
    "assert str_fun == 'Python is fun!'\n",
    "### BEGIN HIDDEN TESTS\n",
    "assert str_really_fun == 'Python is really fun!'\n",
    "### END HIDDEN TESTS"
   ]
  },
  {
   "cell_type": "markdown",
   "metadata": {
    "collapsed": true,
    "deletable": false,
    "editable": false,
    "nbgrader": {
     "grade": false,
     "grade_id": "cell-411d9ec18325d1ee",
     "locked": true,
     "schema_version": 3,
     "solution": false
    }
   },
   "source": [
    "### Q4 - Boolean Comparisons (0.5 points)\n",
    "\n",
    "Using the variables provided, do the following boolean logical comparisons:\n",
    "- Define `bool_comp_1` to be the logical `or` of `bool_1` and `bool_2`\n",
    "- Define `bool_comp_2` to be the logical `and` of  `bool_1` and `bool_2`"
   ]
  },
  {
   "cell_type": "code",
   "execution_count": 20,
   "metadata": {
    "deletable": false,
    "editable": false,
    "execution": {
     "iopub.execute_input": "2023-11-12T19:52:21.047172Z",
     "iopub.status.busy": "2023-11-12T19:52:21.046887Z",
     "iopub.status.idle": "2023-11-12T19:52:21.050422Z",
     "shell.execute_reply": "2023-11-12T19:52:21.049680Z"
    },
    "nbgrader": {
     "grade": false,
     "grade_id": "cell-68d4f74dd85167fa",
     "locked": true,
     "schema_version": 3,
     "solution": false
    }
   },
   "outputs": [],
   "source": [
    "# These variables provided for you\n",
    "bool_1 = True\n",
    "bool_2 = False"
   ]
  },
  {
   "cell_type": "code",
   "execution_count": 21,
   "metadata": {
    "deletable": false,
    "execution": {
     "iopub.execute_input": "2023-11-12T19:52:21.052790Z",
     "iopub.status.busy": "2023-11-12T19:52:21.052498Z",
     "iopub.status.idle": "2023-11-12T19:52:21.056260Z",
     "shell.execute_reply": "2023-11-12T19:52:21.055522Z"
    },
    "nbgrader": {
     "grade": false,
     "grade_id": "cell-bf6144adc1f1e7f7",
     "locked": false,
     "schema_version": 3,
     "solution": true
    }
   },
   "outputs": [],
   "source": [
    "### BEGIN SOLUTION\n",
    "bool_comp_1 = bool_1 or bool_2\n",
    "bool_comp_2 = bool_1 and bool_2\n",
    "### END SOLUTION"
   ]
  },
  {
   "cell_type": "code",
   "execution_count": 22,
   "metadata": {
    "deletable": false,
    "editable": false,
    "execution": {
     "iopub.execute_input": "2023-11-12T19:52:21.058692Z",
     "iopub.status.busy": "2023-11-12T19:52:21.058398Z",
     "iopub.status.idle": "2023-11-12T19:52:21.062120Z",
     "shell.execute_reply": "2023-11-12T19:52:21.061365Z"
    },
    "nbgrader": {
     "grade": true,
     "grade_id": "cell-eeb7dcc8687131df",
     "locked": true,
     "points": 0.25,
     "schema_version": 3,
     "solution": false
    }
   },
   "outputs": [],
   "source": [
    "## TESTS FOR Q4 [Note: Includes Hidden Tests]\n",
    "assert type(bool_comp_1) == bool\n",
    "\n",
    "### BEGIN HIDDEN TESTS\n",
    "assert bool_comp_1\n",
    "### END HIDDEN TESTS"
   ]
  },
  {
   "cell_type": "code",
   "execution_count": 23,
   "metadata": {
    "deletable": false,
    "editable": false,
    "execution": {
     "iopub.execute_input": "2023-11-12T19:52:21.064421Z",
     "iopub.status.busy": "2023-11-12T19:52:21.064143Z",
     "iopub.status.idle": "2023-11-12T19:52:21.067936Z",
     "shell.execute_reply": "2023-11-12T19:52:21.067185Z"
    },
    "nbgrader": {
     "grade": true,
     "grade_id": "cell-7a05eded0276311c",
     "locked": true,
     "points": 0.25,
     "schema_version": 3,
     "solution": false
    }
   },
   "outputs": [],
   "source": [
    "## TESTS FOR Q4 [Note: Includes Hidden Tests]\n",
    "assert type(bool_comp_2) == bool\n",
    "\n",
    "### BEGIN HIDDEN TESTS\n",
    "assert not bool_comp_2\n",
    "### END HIDDEN TESTS"
   ]
  },
  {
   "cell_type": "markdown",
   "metadata": {
    "deletable": false,
    "editable": false,
    "nbgrader": {
     "grade": false,
     "grade_id": "cell-78f52214634eb6b8",
     "locked": true,
     "schema_version": 3,
     "solution": false
    }
   },
   "source": [
    "### Q5 - Value Comparisons (0.5 points)\n",
    "\n",
    "Do the following value comparisons:\n",
    "- Use comparison operators to determine if `comp_val_1` is exactly equal to the value stored in `comp_val_2`\n",
    "    - Store the result of this comparison to a variable called `comp_1`\n",
    "\n",
    "\n",
    "- Use comparison operators to determine if `comp_val_4` is less than or equal to the value stored in `comp_val_3`\n",
    "    - Store the result of this comparison to a variable called `comp_2`"
   ]
  },
  {
   "cell_type": "code",
   "execution_count": 24,
   "metadata": {
    "deletable": false,
    "editable": false,
    "execution": {
     "iopub.execute_input": "2023-11-12T19:52:21.070293Z",
     "iopub.status.busy": "2023-11-12T19:52:21.070013Z",
     "iopub.status.idle": "2023-11-12T19:52:21.073853Z",
     "shell.execute_reply": "2023-11-12T19:52:21.073128Z"
    },
    "nbgrader": {
     "grade": false,
     "grade_id": "cell-13d058159b65c34c",
     "locked": true,
     "schema_version": 3,
     "solution": false
    }
   },
   "outputs": [],
   "source": [
    "# These variables provided for you\n",
    "comp_val_1 = 13\n",
    "comp_val_2 = 22\n",
    "comp_val_3 = 13\n",
    "comp_val_4 = 11"
   ]
  },
  {
   "cell_type": "code",
   "execution_count": 25,
   "metadata": {
    "deletable": false,
    "execution": {
     "iopub.execute_input": "2023-11-12T19:52:21.076272Z",
     "iopub.status.busy": "2023-11-12T19:52:21.075988Z",
     "iopub.status.idle": "2023-11-12T19:52:21.079732Z",
     "shell.execute_reply": "2023-11-12T19:52:21.078940Z"
    },
    "nbgrader": {
     "grade": false,
     "grade_id": "cell-41f5d60aa2e09728",
     "locked": false,
     "schema_version": 3,
     "solution": true
    }
   },
   "outputs": [],
   "source": [
    "### BEGIN SOLUTION\n",
    "comp_1 = comp_val_1 == comp_val_2\n",
    "comp_2 = comp_val_4 <= comp_val_3\n",
    "### END SOLUTION"
   ]
  },
  {
   "cell_type": "code",
   "execution_count": 26,
   "metadata": {
    "deletable": false,
    "editable": false,
    "execution": {
     "iopub.execute_input": "2023-11-12T19:52:21.082109Z",
     "iopub.status.busy": "2023-11-12T19:52:21.081812Z",
     "iopub.status.idle": "2023-11-12T19:52:21.085591Z",
     "shell.execute_reply": "2023-11-12T19:52:21.084847Z"
    },
    "nbgrader": {
     "grade": true,
     "grade_id": "cell-313f6320a6e8c70a",
     "locked": true,
     "points": 0.25,
     "schema_version": 3,
     "solution": false
    }
   },
   "outputs": [],
   "source": [
    "## TESTS FOR Q5 [Note: Includes Hidden Tests]\n",
    "assert type(comp_1) == bool\n",
    "\n",
    "### BEGIN HIDDEN TESTS\n",
    "assert not comp_1\n",
    "### END HIDDEN TESTS"
   ]
  },
  {
   "cell_type": "code",
   "execution_count": 27,
   "metadata": {
    "deletable": false,
    "editable": false,
    "execution": {
     "iopub.execute_input": "2023-11-12T19:52:21.087954Z",
     "iopub.status.busy": "2023-11-12T19:52:21.087669Z",
     "iopub.status.idle": "2023-11-12T19:52:21.091380Z",
     "shell.execute_reply": "2023-11-12T19:52:21.090627Z"
    },
    "nbgrader": {
     "grade": true,
     "grade_id": "cell-283d8c591109241d",
     "locked": true,
     "points": 0.25,
     "schema_version": 3,
     "solution": false
    }
   },
   "outputs": [],
   "source": [
    "## TESTS FOR Q5 [Note: Includes Hidden Tests]\n",
    "assert type(comp_2) == bool\n",
    "\n",
    "### BEGIN HIDDEN TESTS\n",
    "assert comp_2\n",
    "### END HIDDEN TESTS"
   ]
  },
  {
   "cell_type": "markdown",
   "metadata": {
    "deletable": false,
    "editable": false,
    "nbgrader": {
     "grade": false,
     "grade_id": "cell-dd736bc1f50ffa9a",
     "locked": true,
     "schema_version": 3,
     "solution": false
    }
   },
   "source": [
    "## Part III - Functions\n",
    "\n",
    "This part covers the basics of writing and using functions."
   ]
  },
  {
   "cell_type": "markdown",
   "metadata": {
    "deletable": false,
    "editable": false,
    "nbgrader": {
     "grade": false,
     "grade_id": "cell-1b82709889d03621",
     "locked": true,
     "schema_version": 3,
     "solution": false
    }
   },
   "source": [
    "### Function Example\n",
    "\n",
    "The following is a function example provided to you, so you can remind yourself of the structure of functions.\n",
    "\n",
    "You don't need to do anything with this function but understand it."
   ]
  },
  {
   "cell_type": "code",
   "execution_count": 28,
   "metadata": {
    "deletable": false,
    "editable": false,
    "execution": {
     "iopub.execute_input": "2023-11-12T19:52:21.093782Z",
     "iopub.status.busy": "2023-11-12T19:52:21.093492Z",
     "iopub.status.idle": "2023-11-12T19:52:21.097452Z",
     "shell.execute_reply": "2023-11-12T19:52:21.096686Z"
    },
    "nbgrader": {
     "grade": false,
     "grade_id": "cell-723fafc097c2595a",
     "locked": true,
     "schema_version": 3,
     "solution": false
    }
   },
   "outputs": [],
   "source": [
    "# define the function\n",
    "def basic_function(input_number):\n",
    "    \n",
    "    # Multiply the input by 2\n",
    "    output = input_number * 2 \n",
    "    \n",
    "    return output"
   ]
  },
  {
   "cell_type": "code",
   "execution_count": 29,
   "metadata": {
    "deletable": false,
    "editable": false,
    "execution": {
     "iopub.execute_input": "2023-11-12T19:52:21.099862Z",
     "iopub.status.busy": "2023-11-12T19:52:21.099564Z",
     "iopub.status.idle": "2023-11-12T19:52:21.104158Z",
     "shell.execute_reply": "2023-11-12T19:52:21.103380Z"
    },
    "nbgrader": {
     "grade": false,
     "grade_id": "cell-13ba8bb63ec78e3e",
     "locked": true,
     "schema_version": 3,
     "solution": false
    }
   },
   "outputs": [
    {
     "name": "stdout",
     "output_type": "stream",
     "text": [
      "4\n",
      "10\n"
     ]
    }
   ],
   "source": [
    "# execute `basic_function`\n",
    "print(basic_function(2))\n",
    "print(basic_function(5))"
   ]
  },
  {
   "cell_type": "markdown",
   "metadata": {
    "deletable": false,
    "editable": false,
    "nbgrader": {
     "grade": false,
     "grade_id": "cell-885973b0697cb568",
     "locked": true,
     "schema_version": 3,
     "solution": false
    }
   },
   "source": [
    "### Q6 - Calculator (1 point)\n",
    "\n",
    "In Q2, we saw that Python can act as a calculator; however, those standalone statements are not particularly reusable when you want to do calculations with a different set of numbers.\n",
    "\n",
    "Here, we will make a series of functions to do all the mathematical operations that we want to do. \n",
    "\n",
    "Define four functions, called `summation`, `subtraction`, `multiplication`, and `division`. \n",
    "\n",
    "Each of them will take two inputs `num1` and `num2` (that could be `int` or `float`), and use them as follows:\n",
    "- `summation` will add `num1` to `num2` and return the result\n",
    "- `subtraction` will carry out subtraction: `num1` minus `num2` and return the result\n",
    "- `multiplication` will multiply `num1` by `num2` and return the result\n",
    "- `division` will divide `num1` by `num2` and return the result"
   ]
  },
  {
   "cell_type": "code",
   "execution_count": 30,
   "metadata": {
    "deletable": false,
    "execution": {
     "iopub.execute_input": "2023-11-12T19:52:21.106590Z",
     "iopub.status.busy": "2023-11-12T19:52:21.106306Z",
     "iopub.status.idle": "2023-11-12T19:52:21.111524Z",
     "shell.execute_reply": "2023-11-12T19:52:21.110757Z"
    },
    "nbgrader": {
     "grade": false,
     "grade_id": "cell-6da5de076983020f",
     "locked": false,
     "schema_version": 3,
     "solution": true
    }
   },
   "outputs": [],
   "source": [
    "### BEGIN SOLUTION\n",
    "def summation(num1, num2):\n",
    "    return num1 + num2\n",
    "\n",
    "def subtraction(num1, num2):\n",
    "    return num1 - num2\n",
    "\n",
    "def multiplication(num1, num2):\n",
    "    return num1 * num2\n",
    "\n",
    "def division(num1, num2):\n",
    "    return num1 / num2\n",
    "### END SOLUTION"
   ]
  },
  {
   "cell_type": "code",
   "execution_count": 31,
   "metadata": {
    "execution": {
     "iopub.execute_input": "2023-11-12T19:52:21.113878Z",
     "iopub.status.busy": "2023-11-12T19:52:21.113582Z",
     "iopub.status.idle": "2023-11-12T19:52:21.117249Z",
     "shell.execute_reply": "2023-11-12T19:52:21.116504Z"
    }
   },
   "outputs": [],
   "source": [
    "# Cell included for you to check your function works as intended"
   ]
  },
  {
   "cell_type": "code",
   "execution_count": 32,
   "metadata": {
    "deletable": false,
    "editable": false,
    "execution": {
     "iopub.execute_input": "2023-11-12T19:52:21.119683Z",
     "iopub.status.busy": "2023-11-12T19:52:21.119387Z",
     "iopub.status.idle": "2023-11-12T19:52:21.124273Z",
     "shell.execute_reply": "2023-11-12T19:52:21.123520Z"
    },
    "nbgrader": {
     "grade": true,
     "grade_id": "cell-2db5b9469ddd3f5e",
     "locked": true,
     "points": 0.25,
     "schema_version": 3,
     "solution": false
    }
   },
   "outputs": [],
   "source": [
    "## TESTS FOR Q6 [Note: Includes Hidden Tests]\n",
    "\n",
    "assert callable(summation)\n",
    "assert type(summation(2, 2)) == int\n",
    "assert type(summation(2.5, 1)) == float\n",
    "assert summation(1, 1) == 2\n",
    "\n",
    "### BEGIN HIDDEN TESTS\n",
    "assert summation(10, 5) == 15\n",
    "### END HIDDEN TESTS"
   ]
  },
  {
   "cell_type": "code",
   "execution_count": 33,
   "metadata": {
    "deletable": false,
    "editable": false,
    "execution": {
     "iopub.execute_input": "2023-11-12T19:52:21.126762Z",
     "iopub.status.busy": "2023-11-12T19:52:21.126420Z",
     "iopub.status.idle": "2023-11-12T19:52:21.131409Z",
     "shell.execute_reply": "2023-11-12T19:52:21.130672Z"
    },
    "nbgrader": {
     "grade": true,
     "grade_id": "cell-0e21e32dc2acc953",
     "locked": true,
     "points": 0.25,
     "schema_version": 3,
     "solution": false
    }
   },
   "outputs": [],
   "source": [
    "## TESTS FOR Q6 [Note: Includes Hidden Tests]\n",
    "\n",
    "assert callable(subtraction)\n",
    "assert type(subtraction(2, 2)) == int\n",
    "assert type(summation(2.5, 0.5)) == float\n",
    "assert subtraction(1, 1) == 0\n",
    "\n",
    "### BEGIN HIDDEN TESTS\n",
    "assert subtraction(16, 7) == 9\n",
    "### END HIDDEN TESTS"
   ]
  },
  {
   "cell_type": "code",
   "execution_count": 34,
   "metadata": {
    "deletable": false,
    "editable": false,
    "execution": {
     "iopub.execute_input": "2023-11-12T19:52:21.134139Z",
     "iopub.status.busy": "2023-11-12T19:52:21.133860Z",
     "iopub.status.idle": "2023-11-12T19:52:21.138739Z",
     "shell.execute_reply": "2023-11-12T19:52:21.137983Z"
    },
    "nbgrader": {
     "grade": true,
     "grade_id": "cell-89646145e140818b",
     "locked": true,
     "points": 0.25,
     "schema_version": 3,
     "solution": false
    }
   },
   "outputs": [],
   "source": [
    "## TESTS FOR Q6 [Note: Includes Hidden Tests]\n",
    "\n",
    "assert callable(multiplication)\n",
    "assert type(multiplication(2, 2)) == int\n",
    "assert type(multiplication(2.5, 2)) == float\n",
    "assert multiplication(1, 1) == 1\n",
    "\n",
    "### BEGIN HIDDEN TESTS\n",
    "assert multiplication(18, 2) == 36\n",
    "### END HIDDEN TESTS"
   ]
  },
  {
   "cell_type": "code",
   "execution_count": 35,
   "metadata": {
    "deletable": false,
    "editable": false,
    "execution": {
     "iopub.execute_input": "2023-11-12T19:52:21.141136Z",
     "iopub.status.busy": "2023-11-12T19:52:21.140841Z",
     "iopub.status.idle": "2023-11-12T19:52:21.145770Z",
     "shell.execute_reply": "2023-11-12T19:52:21.145021Z"
    },
    "nbgrader": {
     "grade": true,
     "grade_id": "cell-065fccebdd8cda04",
     "locked": true,
     "points": 0.25,
     "schema_version": 3,
     "solution": false
    }
   },
   "outputs": [],
   "source": [
    "## TESTS FOR Q6 [Note: Includes Hidden Tests]\n",
    "\n",
    "assert callable(division)\n",
    "assert type(division(2, 2)) == float\n",
    "assert type(division(2.5, 0.5)) == float\n",
    "assert division(1, 1) == 1\n",
    "\n",
    "### BEGIN HIDDEN TESTS\n",
    "assert division(24, 3) == 8\n",
    "### END HIDDEN TESTS"
   ]
  },
  {
   "cell_type": "markdown",
   "metadata": {
    "deletable": false,
    "editable": false,
    "nbgrader": {
     "grade": false,
     "grade_id": "cell-5ab08f68dc71b58a",
     "locked": true,
     "schema_version": 3,
     "solution": false
    }
   },
   "source": [
    "### Q7 - Extending our Calculator  (0.5 points)\n",
    "\n",
    "Let's now add some more functions to our calculator: \n",
    "\n",
    "- Write a function called `squared` that takes one parameter, called `num`, and returns the square of it. \n",
    "- Write a function called `square_root` that takes one parameter, called `num`, and returns the square root of it.\n",
    "\n",
    "Reminder: you can get the square root of a number by raising it to the power 1/2. You do not need to `import` any modules/packages that we have not yet discussed in class to answer this question."
   ]
  },
  {
   "cell_type": "code",
   "execution_count": 36,
   "metadata": {
    "deletable": false,
    "execution": {
     "iopub.execute_input": "2023-11-12T19:52:21.148149Z",
     "iopub.status.busy": "2023-11-12T19:52:21.147868Z",
     "iopub.status.idle": "2023-11-12T19:52:21.152138Z",
     "shell.execute_reply": "2023-11-12T19:52:21.151379Z"
    },
    "nbgrader": {
     "grade": false,
     "grade_id": "cell-249d571080483d7e",
     "locked": false,
     "schema_version": 3,
     "solution": true
    }
   },
   "outputs": [],
   "source": [
    "### BEGIN SOLUTION\n",
    "def squared(num):\n",
    "    return num ** 2\n",
    "\n",
    "def square_root(num):\n",
    "    return num ** (1/2)\n",
    "### END SOLUTION"
   ]
  },
  {
   "cell_type": "code",
   "execution_count": 37,
   "metadata": {
    "execution": {
     "iopub.execute_input": "2023-11-12T19:52:21.154508Z",
     "iopub.status.busy": "2023-11-12T19:52:21.154230Z",
     "iopub.status.idle": "2023-11-12T19:52:21.157586Z",
     "shell.execute_reply": "2023-11-12T19:52:21.156842Z"
    }
   },
   "outputs": [],
   "source": [
    "# Cell included for you to check your function works as intended"
   ]
  },
  {
   "cell_type": "code",
   "execution_count": 38,
   "metadata": {
    "deletable": false,
    "editable": false,
    "execution": {
     "iopub.execute_input": "2023-11-12T19:52:21.159927Z",
     "iopub.status.busy": "2023-11-12T19:52:21.159646Z",
     "iopub.status.idle": "2023-11-12T19:52:21.163972Z",
     "shell.execute_reply": "2023-11-12T19:52:21.163225Z"
    },
    "nbgrader": {
     "grade": true,
     "grade_id": "cell-d9c2b8004a926b36",
     "locked": true,
     "points": 0.25,
     "schema_version": 3,
     "solution": false
    }
   },
   "outputs": [],
   "source": [
    "## TESTS FOR Q7 [Note: Includes Hidden Tests]\n",
    "\n",
    "assert callable(squared)\n",
    "assert type(squared(2)) == int\n",
    "assert squared(5) == 25\n",
    "\n",
    "### BEGIN HIDDEN TESTS\n",
    "assert squared(7) == 49\n",
    "### END HIDDEN TESTS"
   ]
  },
  {
   "cell_type": "code",
   "execution_count": 39,
   "metadata": {
    "deletable": false,
    "editable": false,
    "execution": {
     "iopub.execute_input": "2023-11-12T19:52:21.166411Z",
     "iopub.status.busy": "2023-11-12T19:52:21.166134Z",
     "iopub.status.idle": "2023-11-12T19:52:21.170456Z",
     "shell.execute_reply": "2023-11-12T19:52:21.169704Z"
    },
    "nbgrader": {
     "grade": true,
     "grade_id": "cell-259646bd6dbbc035",
     "locked": true,
     "points": 0.25,
     "schema_version": 3,
     "solution": false
    }
   },
   "outputs": [],
   "source": [
    "## TESTS FOR Q7 [Note: Includes Hidden Tests]\n",
    "\n",
    "assert callable(square_root)\n",
    "assert type(square_root(4)) == float\n",
    "assert square_root(144) == 12\n",
    "\n",
    "### BEGIN HIDDEN TESTS\n",
    "assert square_root(49) == 7\n",
    "### END HIDDEN TESTS"
   ]
  },
  {
   "cell_type": "markdown",
   "metadata": {
    "deletable": false,
    "editable": false,
    "nbgrader": {
     "grade": false,
     "grade_id": "cell-9bbb8063da29deb3",
     "locked": true,
     "schema_version": 3,
     "solution": false
    }
   },
   "source": [
    "### Example: Chaining Functions Together\n",
    "\n",
    "The goal of using functions is partly to be able to re-use code segments. \n",
    "\n",
    "It's also a way to be able to flexibly apply and combine different functions together, to build up to more complex and interesting programs. \n",
    "\n",
    "The cell below shows a couple examples of using our calculator functions that we have now defined, in combination with each other. "
   ]
  },
  {
   "cell_type": "code",
   "execution_count": 40,
   "metadata": {
    "deletable": false,
    "editable": false,
    "execution": {
     "iopub.execute_input": "2023-11-12T19:52:21.172869Z",
     "iopub.status.busy": "2023-11-12T19:52:21.172575Z",
     "iopub.status.idle": "2023-11-12T19:52:21.178714Z",
     "shell.execute_reply": "2023-11-12T19:52:21.177920Z"
    },
    "nbgrader": {
     "grade": false,
     "grade_id": "cell-721029323933293f",
     "locked": true,
     "schema_version": 3,
     "solution": false
    }
   },
   "outputs": [
    {
     "name": "stdout",
     "output_type": "stream",
     "text": [
      "Output1: \t 18\n",
      "\n",
      "Output2: \t 18\n"
     ]
    }
   ],
   "source": [
    "# Add the multiplication of 2 and 3 to the multiplication of 3 and 4\n",
    "number1 = multiplication(2, 3)\n",
    "number2 = multiplication(3, 4)\n",
    "output1 = summation(number1, number2)\n",
    "print('Output1: \\t', output1)\n",
    "\n",
    "print('')\n",
    "\n",
    "# Note that we can use the outputs of functions directly as inputs to other functions\n",
    "#   Therefore, the above construction is equivalent to the following:\n",
    "output2 = summation(multiplication(2, 3), multiplication(3, 4))\n",
    "print('Output2: \\t', output2)\n",
    "\n",
    "# When we have something like above, the functions that are inputs get evaluated first:\n",
    "#   So, first, `multiplication(2, 3)` evaluates as 6, and `multiplication(3, 4)` evaluates as 12\n",
    "#   This then reduces to calling `summation(6, 12)`, which returns our answer of 18"
   ]
  },
  {
   "cell_type": "markdown",
   "metadata": {
    "deletable": false,
    "editable": false,
    "nbgrader": {
     "grade": false,
     "grade_id": "cell-d5566ec96e20686b",
     "locked": true,
     "schema_version": 3,
     "solution": false
    }
   },
   "source": [
    "### Q8 - Using Our Calculator  (1 point)\n",
    "\n",
    "Let's now *use our new calculator functions* to do some calculations!\n",
    "\n",
    "- Add 2 squared to the square root of 49\n",
    "    - Save the result to a variable called `calc_a`\n",
    "- Subtract the division of 12 by 3 from the the multiplication of 2 and 3\n",
    "    - Save the result to a variable called `calc_b`\n",
    "- Multiply the square root of 36 by the sum of 7 and 6\n",
    "    - Save the result to a variable called `calc_c`\n",
    "- Divide the square of 5 by the square root of 100\n",
    "    - Save the result to a variable called `calc_d`\n",
    "    \n",
    "Note: The answers here should utilize the functions you created previously."
   ]
  },
  {
   "cell_type": "code",
   "execution_count": 41,
   "metadata": {
    "deletable": false,
    "execution": {
     "iopub.execute_input": "2023-11-12T19:52:21.181158Z",
     "iopub.status.busy": "2023-11-12T19:52:21.180860Z",
     "iopub.status.idle": "2023-11-12T19:52:21.186632Z",
     "shell.execute_reply": "2023-11-12T19:52:21.185836Z"
    },
    "nbgrader": {
     "grade": false,
     "grade_id": "cell-78166757e331fd3f",
     "locked": false,
     "schema_version": 3,
     "solution": true
    }
   },
   "outputs": [
    {
     "name": "stdout",
     "output_type": "stream",
     "text": [
      "11.0 2.0 78.0 2.5\n"
     ]
    }
   ],
   "source": [
    "### BEGIN SOLUTION\n",
    "calc_a = summation(squared(2), square_root(49))\n",
    "calc_b = subtraction(multiplication(2, 3), division(12, 3))\n",
    "calc_c = multiplication(square_root(36), summation(7, 6))\n",
    "calc_d = division(squared(5), square_root(100))\n",
    "\n",
    "print(calc_a, calc_b, calc_c, calc_d)\n",
    "### END SOLUTION"
   ]
  },
  {
   "cell_type": "code",
   "execution_count": 42,
   "metadata": {
    "execution": {
     "iopub.execute_input": "2023-11-12T19:52:21.189396Z",
     "iopub.status.busy": "2023-11-12T19:52:21.189115Z",
     "iopub.status.idle": "2023-11-12T19:52:21.192417Z",
     "shell.execute_reply": "2023-11-12T19:52:21.191669Z"
    }
   },
   "outputs": [],
   "source": [
    "# Cell included for you to check your function works as intended"
   ]
  },
  {
   "cell_type": "code",
   "execution_count": 43,
   "metadata": {
    "deletable": false,
    "editable": false,
    "execution": {
     "iopub.execute_input": "2023-11-12T19:52:21.194811Z",
     "iopub.status.busy": "2023-11-12T19:52:21.194518Z",
     "iopub.status.idle": "2023-11-12T19:52:21.198391Z",
     "shell.execute_reply": "2023-11-12T19:52:21.197643Z"
    },
    "nbgrader": {
     "grade": true,
     "grade_id": "cell-e29a42fbdc3ccdc5",
     "locked": true,
     "points": 0.25,
     "schema_version": 3,
     "solution": false
    }
   },
   "outputs": [],
   "source": [
    "## TESTS FOR Q8 [Note: Includes Hidden Tests]\n",
    "\n",
    "assert calc_a\n",
    "assert type(calc_a) == float\n",
    "\n",
    "### BEGIN HIDDEN TESTS\n",
    "assert calc_a == 11.0\n",
    "### END HIDDEN TESTS"
   ]
  },
  {
   "cell_type": "code",
   "execution_count": 44,
   "metadata": {
    "deletable": false,
    "editable": false,
    "execution": {
     "iopub.execute_input": "2023-11-12T19:52:21.200765Z",
     "iopub.status.busy": "2023-11-12T19:52:21.200448Z",
     "iopub.status.idle": "2023-11-12T19:52:21.204438Z",
     "shell.execute_reply": "2023-11-12T19:52:21.203686Z"
    },
    "nbgrader": {
     "grade": true,
     "grade_id": "cell-00d84e7f456e3984",
     "locked": true,
     "points": 0.25,
     "schema_version": 3,
     "solution": false
    }
   },
   "outputs": [],
   "source": [
    "## TESTS FOR Q8 [Note: Includes Hidden Tests]\n",
    "\n",
    "assert calc_b\n",
    "assert type(calc_b) == float\n",
    "\n",
    "### BEGIN HIDDEN TESTS\n",
    "assert calc_b == 2.0\n",
    "### END HIDDEN TESTS"
   ]
  },
  {
   "cell_type": "code",
   "execution_count": 45,
   "metadata": {
    "deletable": false,
    "editable": false,
    "execution": {
     "iopub.execute_input": "2023-11-12T19:52:21.206706Z",
     "iopub.status.busy": "2023-11-12T19:52:21.206416Z",
     "iopub.status.idle": "2023-11-12T19:52:21.210296Z",
     "shell.execute_reply": "2023-11-12T19:52:21.209553Z"
    },
    "nbgrader": {
     "grade": true,
     "grade_id": "cell-c5231a0cfa605a94",
     "locked": true,
     "points": 0.25,
     "schema_version": 3,
     "solution": false
    }
   },
   "outputs": [],
   "source": [
    "## TESTS FOR Q8 [Note: Includes Hidden Tests]\n",
    "\n",
    "assert calc_c\n",
    "assert type(calc_c) == float\n",
    "\n",
    "### BEGIN HIDDEN TESTS\n",
    "assert calc_c == 78.0\n",
    "### END HIDDEN TESTS"
   ]
  },
  {
   "cell_type": "code",
   "execution_count": 46,
   "metadata": {
    "deletable": false,
    "editable": false,
    "execution": {
     "iopub.execute_input": "2023-11-12T19:52:21.212700Z",
     "iopub.status.busy": "2023-11-12T19:52:21.212408Z",
     "iopub.status.idle": "2023-11-12T19:52:21.216203Z",
     "shell.execute_reply": "2023-11-12T19:52:21.215459Z"
    },
    "nbgrader": {
     "grade": true,
     "grade_id": "cell-9b225dabad981fb1",
     "locked": true,
     "points": 0.25,
     "schema_version": 3,
     "solution": false
    }
   },
   "outputs": [],
   "source": [
    "## TESTS FOR Q8 [Note: Includes Hidden Tests]\n",
    "\n",
    "assert calc_d\n",
    "assert type(calc_d) == float\n",
    "\n",
    "### BEGIN HIDDEN TESTS\n",
    "assert calc_d == 2.5\n",
    "### END HIDDEN TESTS"
   ]
  },
  {
   "cell_type": "markdown",
   "metadata": {
    "deletable": false,
    "editable": false,
    "nbgrader": {
     "grade": false,
     "grade_id": "cell-20b61284b044daf2",
     "locked": true,
     "schema_version": 3,
     "solution": false
    }
   },
   "source": [
    "### Q9 - Curve Grade  (1 point)\n",
    "\n",
    "Write a function to apply a very simple curve to an input grade. The function will be called `curve_grade` and will take two parameters as inputs, in the order specified here: \n",
    "\n",
    "- `points` : the number of points a student earned on an assignment (int or float)\n",
    "- `curve` : the proportion of curve to apply to the student's `points` (int or float)\n",
    "\n",
    "Within the function, the code will `return` `curved_points`. This code will apply the proportion specified in `curve` to the student's points. For example, if `curve` is 0.1 and `points` is 100, the code in the funtion would multiply `100` (`points`) by `0.1` (`curve`) and add that back to the original `points`, `return`ing the value `110`. If `points` were `90` and `curve` was `0.05`, the function would `return` `94.5`."
   ]
  },
  {
   "cell_type": "code",
   "execution_count": 47,
   "metadata": {
    "deletable": false,
    "execution": {
     "iopub.execute_input": "2023-11-12T19:52:21.218603Z",
     "iopub.status.busy": "2023-11-12T19:52:21.218327Z",
     "iopub.status.idle": "2023-11-12T19:52:21.222301Z",
     "shell.execute_reply": "2023-11-12T19:52:21.221555Z"
    },
    "nbgrader": {
     "grade": false,
     "grade_id": "cell-1328d643463d0a68",
     "locked": false,
     "schema_version": 3,
     "solution": true
    }
   },
   "outputs": [],
   "source": [
    "### BEGIN SOLUTION\n",
    "def curve_grade(points, curve):\n",
    "    \n",
    "    curved_points = points + (points * curve)\n",
    "    \n",
    "    return curved_points\n",
    "### END SOLUTION"
   ]
  },
  {
   "cell_type": "code",
   "execution_count": 48,
   "metadata": {
    "execution": {
     "iopub.execute_input": "2023-11-12T19:52:21.224569Z",
     "iopub.status.busy": "2023-11-12T19:52:21.224294Z",
     "iopub.status.idle": "2023-11-12T19:52:21.237483Z",
     "shell.execute_reply": "2023-11-12T19:52:21.236733Z"
    }
   },
   "outputs": [
    {
     "data": {
      "text/plain": [
       "11.0"
      ]
     },
     "execution_count": 48,
     "metadata": {},
     "output_type": "execute_result"
    }
   ],
   "source": [
    "curve_grade(10, 0.1)"
   ]
  },
  {
   "cell_type": "code",
   "execution_count": 49,
   "metadata": {
    "execution": {
     "iopub.execute_input": "2023-11-12T19:52:21.239899Z",
     "iopub.status.busy": "2023-11-12T19:52:21.239585Z",
     "iopub.status.idle": "2023-11-12T19:52:21.242970Z",
     "shell.execute_reply": "2023-11-12T19:52:21.242273Z"
    }
   },
   "outputs": [],
   "source": [
    "# BE SURE YOUR ANSWER IS IN THE CELL ABOVE\n",
    "# but you can use this cell to test/execute/check your thinking (optional)"
   ]
  },
  {
   "cell_type": "code",
   "execution_count": 50,
   "metadata": {
    "deletable": false,
    "editable": false,
    "execution": {
     "iopub.execute_input": "2023-11-12T19:52:21.245815Z",
     "iopub.status.busy": "2023-11-12T19:52:21.245553Z",
     "iopub.status.idle": "2023-11-12T19:52:21.249047Z",
     "shell.execute_reply": "2023-11-12T19:52:21.248349Z"
    },
    "nbgrader": {
     "grade": true,
     "grade_id": "cell-ff0f16aa91a10950",
     "locked": true,
     "points": 0.25,
     "schema_version": 3,
     "solution": false
    }
   },
   "outputs": [],
   "source": [
    "## TESTS FOR Q9\n",
    "\n",
    "assert curve_grade\n",
    "assert curve_grade(100, 0.1) == 110"
   ]
  },
  {
   "cell_type": "code",
   "execution_count": 51,
   "metadata": {
    "deletable": false,
    "editable": false,
    "execution": {
     "iopub.execute_input": "2023-11-12T19:52:21.251816Z",
     "iopub.status.busy": "2023-11-12T19:52:21.251565Z",
     "iopub.status.idle": "2023-11-12T19:52:21.255091Z",
     "shell.execute_reply": "2023-11-12T19:52:21.254394Z"
    },
    "nbgrader": {
     "grade": true,
     "grade_id": "cell-6a372d4477ec3403",
     "locked": true,
     "points": 0.25,
     "schema_version": 3,
     "solution": false
    }
   },
   "outputs": [],
   "source": [
    "## TESTS FOR Q9 [Note: Hidden Tests]\n",
    "\n",
    "### BEGIN HIDDEN TESTS\n",
    "# tests parameter names are correct\n",
    "assert curve_grade(points=100, curve=0.1) == 110\n",
    "### END HIDDEN TESTS"
   ]
  },
  {
   "cell_type": "code",
   "execution_count": 52,
   "metadata": {
    "deletable": false,
    "editable": false,
    "execution": {
     "iopub.execute_input": "2023-11-12T19:52:21.257822Z",
     "iopub.status.busy": "2023-11-12T19:52:21.257561Z",
     "iopub.status.idle": "2023-11-12T19:52:21.261802Z",
     "shell.execute_reply": "2023-11-12T19:52:21.261072Z"
    },
    "nbgrader": {
     "grade": true,
     "grade_id": "cell-e74d5a799a1776cc",
     "locked": true,
     "points": 0.5,
     "schema_version": 3,
     "solution": false
    }
   },
   "outputs": [],
   "source": [
    "## TESTS FOR Q9 [Note: Hidden Tests]\n",
    "\n",
    "### BEGIN HIDDEN TESTS\n",
    "# tests other input values\n",
    "assert curve_grade(points=100, curve=0.05) == 105\n",
    "assert curve_grade(points=90, curve=0.05) == 94.5\n",
    "assert curve_grade(points=90, curve=0.1) == 99.0\n",
    "### END HIDDEN TESTS"
   ]
  },
  {
   "cell_type": "markdown",
   "metadata": {
    "deletable": false,
    "editable": false,
    "nbgrader": {
     "grade": false,
     "grade_id": "cell-69a354a6d322985f",
     "locked": true,
     "schema_version": 3,
     "solution": false
    }
   },
   "source": [
    "### Q10 - Using `curve_grade`  (0.75 points)\n",
    "\n",
    "Execute your `curve_grade` function to generate the `curved_points` for 3 students in the same class on their first exam, applying a 2% curve (0.02 for `curve`) to each student's score. Store the student's curved grade in the variable specified below:\n",
    "\n",
    "- `student_a` | earned 12.2 `points`\n",
    "- `student_b` | earned 11 `points`\n",
    "- `student_c` | earned 11.5 `points`"
   ]
  },
  {
   "cell_type": "code",
   "execution_count": 53,
   "metadata": {
    "deletable": false,
    "execution": {
     "iopub.execute_input": "2023-11-12T19:52:21.264714Z",
     "iopub.status.busy": "2023-11-12T19:52:21.264440Z",
     "iopub.status.idle": "2023-11-12T19:52:21.268951Z",
     "shell.execute_reply": "2023-11-12T19:52:21.268220Z"
    },
    "nbgrader": {
     "grade": false,
     "grade_id": "cell-dd63cd542096825b",
     "locked": false,
     "schema_version": 3,
     "solution": true
    }
   },
   "outputs": [
    {
     "name": "stdout",
     "output_type": "stream",
     "text": [
      "12.443999999999999 11.22 11.73\n"
     ]
    }
   ],
   "source": [
    "### BEGIN SOLUTION\n",
    "student_a = curve_grade(12.2, 0.02)\n",
    "student_b = curve_grade(11, 0.02)\n",
    "student_c = curve_grade(11.5, 0.02)\n",
    "print(student_a, student_b, student_c)\n",
    "### END SOLUTION"
   ]
  },
  {
   "cell_type": "code",
   "execution_count": 54,
   "metadata": {
    "deletable": false,
    "editable": false,
    "execution": {
     "iopub.execute_input": "2023-11-12T19:52:21.271873Z",
     "iopub.status.busy": "2023-11-12T19:52:21.271630Z",
     "iopub.status.idle": "2023-11-12T19:52:21.275522Z",
     "shell.execute_reply": "2023-11-12T19:52:21.274832Z"
    },
    "nbgrader": {
     "grade": true,
     "grade_id": "cell-27e516bea517e29f",
     "locked": true,
     "points": 0.25,
     "schema_version": 3,
     "solution": false
    }
   },
   "outputs": [],
   "source": [
    "## TESTS FOR Q10 [Note: Hidden Tests]\n",
    "\n",
    "assert student_a\n",
    "assert type(student_a) == float\n",
    "\n",
    "### BEGIN HIDDEN TESTS\n",
    "assert math.isclose(student_a, 12.44, rel_tol = 0.01)\n",
    "### END HIDDEN TESTS"
   ]
  },
  {
   "cell_type": "code",
   "execution_count": 55,
   "metadata": {
    "deletable": false,
    "editable": false,
    "execution": {
     "iopub.execute_input": "2023-11-12T19:52:21.278285Z",
     "iopub.status.busy": "2023-11-12T19:52:21.278049Z",
     "iopub.status.idle": "2023-11-12T19:52:21.281841Z",
     "shell.execute_reply": "2023-11-12T19:52:21.281062Z"
    },
    "nbgrader": {
     "grade": true,
     "grade_id": "cell-33337142852a443b",
     "locked": true,
     "points": 0.25,
     "schema_version": 3,
     "solution": false
    }
   },
   "outputs": [],
   "source": [
    "## TESTS FOR Q10 [Note: Hidden Tests]\n",
    "\n",
    "assert student_b\n",
    "assert type(student_b) == float\n",
    "\n",
    "### BEGIN HIDDEN TESTS\n",
    "assert math.isclose(student_b, 11.22, rel_tol = 0.01)\n",
    "### END HIDDEN TESTS"
   ]
  },
  {
   "cell_type": "code",
   "execution_count": 56,
   "metadata": {
    "deletable": false,
    "editable": false,
    "execution": {
     "iopub.execute_input": "2023-11-12T19:52:21.284876Z",
     "iopub.status.busy": "2023-11-12T19:52:21.284480Z",
     "iopub.status.idle": "2023-11-12T19:52:21.288277Z",
     "shell.execute_reply": "2023-11-12T19:52:21.287584Z"
    },
    "nbgrader": {
     "grade": true,
     "grade_id": "cell-76452dd79b41edc4",
     "locked": true,
     "points": 0.25,
     "schema_version": 3,
     "solution": false
    }
   },
   "outputs": [],
   "source": [
    "## TESTS FOR Q10 [Note: Hidden Tests]\n",
    "\n",
    "assert student_c\n",
    "assert type(student_c) == float\n",
    "\n",
    "### BEGIN HIDDEN TESTS\n",
    "assert math.isclose(student_c, 11.73, rel_tol = 0.01)\n",
    "### END HIDDEN TESTS"
   ]
  },
  {
   "cell_type": "markdown",
   "metadata": {
    "deletable": false,
    "editable": false,
    "nbgrader": {
     "grade": false,
     "grade_id": "cell-b709563be316715f",
     "locked": true,
     "schema_version": 3,
     "solution": false
    }
   },
   "source": [
    "## The End!\n",
    "\n",
    "This is the end of the assignment!\n",
    "\n",
    "Have a look back over your answers, and also make sure to `Restart & Run All` from the kernel menu to double check that everything is working properly. When you are ready, submit on datahub!"
   ]
  }
 ],
 "metadata": {
  "kernelspec": {
   "display_name": "Python 3 (ipykernel)",
   "language": "python",
   "name": "python3"
  },
  "language_info": {
   "codemirror_mode": {
    "name": "ipython",
    "version": 3
   },
   "file_extension": ".py",
   "mimetype": "text/x-python",
   "name": "python",
   "nbconvert_exporter": "python",
   "pygments_lexer": "ipython3",
   "version": "3.9.5"
  }
 },
 "nbformat": 4,
 "nbformat_minor": 2
}